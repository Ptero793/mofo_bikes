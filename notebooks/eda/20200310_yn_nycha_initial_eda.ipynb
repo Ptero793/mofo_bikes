{
 "cells": [
  {
   "cell_type": "markdown",
   "metadata": {},
   "source": [
    "# Initial Exploratory Data Analysis: NYCHA Residents"
   ]
  },
  {
   "cell_type": "markdown",
   "metadata": {},
   "source": [
    "## Import libraries"
   ]
  },
  {
   "cell_type": "code",
   "execution_count": 1,
   "metadata": {},
   "outputs": [],
   "source": [
    "import pandas as pd\n",
    "import numpy as np"
   ]
  },
  {
   "cell_type": "markdown",
   "metadata": {},
   "source": [
    "## Import and load data"
   ]
  },
  {
   "cell_type": "code",
   "execution_count": 2,
   "metadata": {},
   "outputs": [],
   "source": [
    "nycha_res_raw = pd.read_csv('../../data/00_raw/NYCHA_Resident_Data_Book_Summary.csv')"
   ]
  },
  {
   "cell_type": "code",
   "execution_count": 3,
   "metadata": {},
   "outputs": [],
   "source": [
    "nycha_res = nycha_res_raw.copy()"
   ]
  },
  {
   "cell_type": "markdown",
   "metadata": {},
   "source": [
    "## Inspect data frame"
   ]
  },
  {
   "cell_type": "code",
   "execution_count": 4,
   "metadata": {},
   "outputs": [
    {
     "data": {
      "text/plain": [
       "(33, 43)"
      ]
     },
     "execution_count": 4,
     "metadata": {},
     "output_type": "execute_result"
    }
   ],
   "source": [
    "nycha_res.shape"
   ]
  },
  {
   "cell_type": "code",
   "execution_count": 5,
   "metadata": {},
   "outputs": [
    {
     "name": "stdout",
     "output_type": "stream",
     "text": [
      "<class 'pandas.core.frame.DataFrame'>\n",
      "RangeIndex: 33 entries, 0 to 32\n",
      "Data columns (total 43 columns):\n",
      "PROGRAM                                                         33 non-null object\n",
      "STATECITY_SECTION8_FLAG                                         33 non-null object\n",
      "Total Families                                                  33 non-null int64\n",
      "Total Female Headed Families                                    33 non-null int64\n",
      "Total Male Headed Families                                      33 non-null int64\n",
      "Total Population                                                33 non-null int64\n",
      "Average Family Size                                             33 non-null float64\n",
      "Total Minors Under 18                                           33 non-null int64\n",
      "Average Minors per Family                                       33 non-null float64\n",
      "Total Minors as Percent of Population                           33 non-null float64\n",
      "All Average Total Gross Income                                  33 non-null object\n",
      "All Average Gross Rent                                          33 non-null object\n",
      "Total HOH 62 Years and Over                                     33 non-null int64\n",
      "Total HOH 62 Years and Over as Percent of Families              33 non-null float64\n",
      "Total Female Headed HOH 62 Years and Over                       33 non-null int64\n",
      "Total Male Headed HOH 62 Years and Over                         33 non-null int64\n",
      "Total Elderly Single Person Families                            33 non-null int64\n",
      "Total Elderly Population                                        33 non-null int64\n",
      "Total 62 Years and Over as Percent of Population                33 non-null float64\n",
      "Total Families on Welfare                                       33 non-null int64\n",
      "Total Families on Welfare and HOH Elderly                       33 non-null int64\n",
      "Total Families on Full Welfare                                  33 non-null int64\n",
      "Total Families on Welfare as Percent of Families                33 non-null float64\n",
      "Total Single Parent/Grandparent Families with Minors            33 non-null int64\n",
      "Total Female Headed Single Parent/Grandparent with Minors       33 non-null int64\n",
      "Total Male Headed Single Parent/Grandparent with Minors         33 non-null int64\n",
      "Total Single Parent/Grandparent Families on Welfare             33 non-null int64\n",
      "Total Single Parent/Grandparent with Minors as % of Families    33 non-null float64\n",
      "Total Families - 1 or More Employed                             33 non-null int64\n",
      "Total Families - 1 or More Employed as Percent of Families      33 non-null float64\n",
      "Total Families - 2nd Adult Employed                             33 non-null int64\n",
      "All Families Average Years in Public Housing                    33 non-null float64\n",
      "Residents Under 4                                               33 non-null int64\n",
      "Residents 4 to 5                                                33 non-null int64\n",
      "Residents 6 to 9                                                33 non-null int64\n",
      "Residents 10 to 13                                              33 non-null int64\n",
      "Residents 14 to 17                                              33 non-null int64\n",
      "Residents 18 to 20                                              33 non-null int64\n",
      "Residents 21 to 49                                              33 non-null int64\n",
      "Residents 50 to 61                                              33 non-null int64\n",
      "Residents 62 Plus                                               33 non-null int64\n",
      "Total Fixed Income Families                                     33 non-null int64\n",
      "Total Fixed Income Families as Percent of Families              33 non-null float64\n",
      "dtypes: float64(10), int64(29), object(4)\n",
      "memory usage: 11.2+ KB\n"
     ]
    }
   ],
   "source": [
    "nycha_res.info()"
   ]
  },
  {
   "cell_type": "code",
   "execution_count": 6,
   "metadata": {},
   "outputs": [
    {
     "data": {
      "text/html": [
       "<div>\n",
       "<style scoped>\n",
       "    .dataframe tbody tr th:only-of-type {\n",
       "        vertical-align: middle;\n",
       "    }\n",
       "\n",
       "    .dataframe tbody tr th {\n",
       "        vertical-align: top;\n",
       "    }\n",
       "\n",
       "    .dataframe thead th {\n",
       "        text-align: right;\n",
       "    }\n",
       "</style>\n",
       "<table border=\"1\" class=\"dataframe\">\n",
       "  <thead>\n",
       "    <tr style=\"text-align: right;\">\n",
       "      <th></th>\n",
       "      <th>PROGRAM</th>\n",
       "      <th>STATECITY_SECTION8_FLAG</th>\n",
       "    </tr>\n",
       "  </thead>\n",
       "  <tbody>\n",
       "    <tr>\n",
       "      <td>0</td>\n",
       "      <td>FEDERAL</td>\n",
       "      <td>TOTAL HOUSEHOLDS</td>\n",
       "    </tr>\n",
       "    <tr>\n",
       "      <td>1</td>\n",
       "      <td>FORMER NEW YORK STATE</td>\n",
       "      <td>TOTAL HOUSEHOLDS</td>\n",
       "    </tr>\n",
       "    <tr>\n",
       "      <td>2</td>\n",
       "      <td>FORMER NEW YORK STATE</td>\n",
       "      <td>PUBLIC HOUSING HOUSEHOLDS</td>\n",
       "    </tr>\n",
       "    <tr>\n",
       "      <td>3</td>\n",
       "      <td>FORMER NEW YORK STATE</td>\n",
       "      <td>SECTION 8 TRANSITION HOUSEHOLDS</td>\n",
       "    </tr>\n",
       "    <tr>\n",
       "      <td>4</td>\n",
       "      <td>FORMER NEW YORK CITY</td>\n",
       "      <td>TOTAL HOUSEHOLDS</td>\n",
       "    </tr>\n",
       "    <tr>\n",
       "      <td>5</td>\n",
       "      <td>FORMER NEW YORK CITY</td>\n",
       "      <td>PUBLIC HOUSING HOUSEHOLDS</td>\n",
       "    </tr>\n",
       "    <tr>\n",
       "      <td>6</td>\n",
       "      <td>FORMER NEW YORK CITY</td>\n",
       "      <td>SECTION 8 TRANSITION HOUSEHOLDS</td>\n",
       "    </tr>\n",
       "    <tr>\n",
       "      <td>7</td>\n",
       "      <td>MIXED FINANCE (LLC1 AND LLC2)</td>\n",
       "      <td>TOTAL HOUSEHOLDS</td>\n",
       "    </tr>\n",
       "    <tr>\n",
       "      <td>8</td>\n",
       "      <td>MIXED FINANCE (LLC1 AND LLC2)</td>\n",
       "      <td>PUBLIC HOUSING HOUSEHOLDS</td>\n",
       "    </tr>\n",
       "    <tr>\n",
       "      <td>9</td>\n",
       "      <td>MIXED FINANCE (LLC1 AND LLC2)</td>\n",
       "      <td>SECTION 8 TRANSITION HOUSEHOLDS</td>\n",
       "    </tr>\n",
       "    <tr>\n",
       "      <td>10</td>\n",
       "      <td>MIXED FINANCE/LLC1</td>\n",
       "      <td>TOTAL HOUSEHOLDS</td>\n",
       "    </tr>\n",
       "    <tr>\n",
       "      <td>11</td>\n",
       "      <td>MIXED FINANCE/LLC1</td>\n",
       "      <td>PUBLIC HOUSING HOUSEHOLDS</td>\n",
       "    </tr>\n",
       "    <tr>\n",
       "      <td>12</td>\n",
       "      <td>MIXED FINANCE/LLC1</td>\n",
       "      <td>SECTION 8 TRANSITION HOUSEHOLDS</td>\n",
       "    </tr>\n",
       "    <tr>\n",
       "      <td>13</td>\n",
       "      <td>MIXED FINANCE/LLC2</td>\n",
       "      <td>TOTAL HOUSEHOLDS</td>\n",
       "    </tr>\n",
       "    <tr>\n",
       "      <td>14</td>\n",
       "      <td>MIXED FINANCE/LLC2</td>\n",
       "      <td>PUBLIC HOUSING HOUSEHOLDS</td>\n",
       "    </tr>\n",
       "    <tr>\n",
       "      <td>15</td>\n",
       "      <td>MIXED FINANCE/LLC2</td>\n",
       "      <td>SECTION 8 TRANSITION HOUSEHOLDS</td>\n",
       "    </tr>\n",
       "    <tr>\n",
       "      <td>16</td>\n",
       "      <td>NGO1</td>\n",
       "      <td>TOTAL HOUSEHOLDS</td>\n",
       "    </tr>\n",
       "    <tr>\n",
       "      <td>17</td>\n",
       "      <td>ALL PROGRAMS</td>\n",
       "      <td>TOTAL HOUSEHOLDS</td>\n",
       "    </tr>\n",
       "    <tr>\n",
       "      <td>18</td>\n",
       "      <td>ALL PROGRAMS</td>\n",
       "      <td>PUBLIC HOUSING HOUSEHOLDS</td>\n",
       "    </tr>\n",
       "    <tr>\n",
       "      <td>19</td>\n",
       "      <td>ALL PROGRAMS</td>\n",
       "      <td>SECTION 8 HOUSEHOLDS</td>\n",
       "    </tr>\n",
       "    <tr>\n",
       "      <td>20</td>\n",
       "      <td>BRONX</td>\n",
       "      <td>TOTAL HOUSEHOLDS</td>\n",
       "    </tr>\n",
       "    <tr>\n",
       "      <td>21</td>\n",
       "      <td>BRONX</td>\n",
       "      <td>PUBLIC HOUSING HOUSEHOLDS</td>\n",
       "    </tr>\n",
       "    <tr>\n",
       "      <td>22</td>\n",
       "      <td>BRONX</td>\n",
       "      <td>SECTION 8 HOUSEHOLDS</td>\n",
       "    </tr>\n",
       "    <tr>\n",
       "      <td>23</td>\n",
       "      <td>BROOKLYN</td>\n",
       "      <td>TOTAL HOUSEHOLDS</td>\n",
       "    </tr>\n",
       "    <tr>\n",
       "      <td>24</td>\n",
       "      <td>BROOKLYN</td>\n",
       "      <td>PUBLIC HOUSING HOUSEHOLDS</td>\n",
       "    </tr>\n",
       "    <tr>\n",
       "      <td>25</td>\n",
       "      <td>BROOKLYN</td>\n",
       "      <td>SECTION 8 HOUSEHOLDS</td>\n",
       "    </tr>\n",
       "    <tr>\n",
       "      <td>26</td>\n",
       "      <td>MANHATTAN</td>\n",
       "      <td>TOTAL HOUSEHOLDS</td>\n",
       "    </tr>\n",
       "    <tr>\n",
       "      <td>27</td>\n",
       "      <td>MANHATTAN</td>\n",
       "      <td>PUBLIC HOUSING HOUSEHOLDS</td>\n",
       "    </tr>\n",
       "    <tr>\n",
       "      <td>28</td>\n",
       "      <td>MANHATTAN</td>\n",
       "      <td>SECTION 8 HOUSEHOLDS</td>\n",
       "    </tr>\n",
       "    <tr>\n",
       "      <td>29</td>\n",
       "      <td>QUEENS</td>\n",
       "      <td>TOTAL HOUSEHOLDS</td>\n",
       "    </tr>\n",
       "    <tr>\n",
       "      <td>30</td>\n",
       "      <td>STATEN ISLAND</td>\n",
       "      <td>TOTAL HOUSEHOLDS</td>\n",
       "    </tr>\n",
       "    <tr>\n",
       "      <td>31</td>\n",
       "      <td>STATEN ISLAND</td>\n",
       "      <td>PUBLIC HOUSING HOUSEHOLDS</td>\n",
       "    </tr>\n",
       "    <tr>\n",
       "      <td>32</td>\n",
       "      <td>STATEN ISLAND</td>\n",
       "      <td>SECTION 8 HOUSEHOLDS</td>\n",
       "    </tr>\n",
       "  </tbody>\n",
       "</table>\n",
       "</div>"
      ],
      "text/plain": [
       "                          PROGRAM          STATECITY_SECTION8_FLAG\n",
       "0                         FEDERAL                 TOTAL HOUSEHOLDS\n",
       "1           FORMER NEW YORK STATE                 TOTAL HOUSEHOLDS\n",
       "2           FORMER NEW YORK STATE        PUBLIC HOUSING HOUSEHOLDS\n",
       "3           FORMER NEW YORK STATE  SECTION 8 TRANSITION HOUSEHOLDS\n",
       "4            FORMER NEW YORK CITY                 TOTAL HOUSEHOLDS\n",
       "5            FORMER NEW YORK CITY        PUBLIC HOUSING HOUSEHOLDS\n",
       "6            FORMER NEW YORK CITY  SECTION 8 TRANSITION HOUSEHOLDS\n",
       "7   MIXED FINANCE (LLC1 AND LLC2)                 TOTAL HOUSEHOLDS\n",
       "8   MIXED FINANCE (LLC1 AND LLC2)        PUBLIC HOUSING HOUSEHOLDS\n",
       "9   MIXED FINANCE (LLC1 AND LLC2)  SECTION 8 TRANSITION HOUSEHOLDS\n",
       "10             MIXED FINANCE/LLC1                 TOTAL HOUSEHOLDS\n",
       "11             MIXED FINANCE/LLC1        PUBLIC HOUSING HOUSEHOLDS\n",
       "12             MIXED FINANCE/LLC1  SECTION 8 TRANSITION HOUSEHOLDS\n",
       "13             MIXED FINANCE/LLC2                 TOTAL HOUSEHOLDS\n",
       "14             MIXED FINANCE/LLC2        PUBLIC HOUSING HOUSEHOLDS\n",
       "15             MIXED FINANCE/LLC2  SECTION 8 TRANSITION HOUSEHOLDS\n",
       "16                           NGO1                 TOTAL HOUSEHOLDS\n",
       "17                   ALL PROGRAMS                 TOTAL HOUSEHOLDS\n",
       "18                   ALL PROGRAMS        PUBLIC HOUSING HOUSEHOLDS\n",
       "19                   ALL PROGRAMS             SECTION 8 HOUSEHOLDS\n",
       "20                          BRONX                 TOTAL HOUSEHOLDS\n",
       "21                          BRONX        PUBLIC HOUSING HOUSEHOLDS\n",
       "22                          BRONX             SECTION 8 HOUSEHOLDS\n",
       "23                       BROOKLYN                 TOTAL HOUSEHOLDS\n",
       "24                       BROOKLYN        PUBLIC HOUSING HOUSEHOLDS\n",
       "25                       BROOKLYN             SECTION 8 HOUSEHOLDS\n",
       "26                      MANHATTAN                 TOTAL HOUSEHOLDS\n",
       "27                      MANHATTAN        PUBLIC HOUSING HOUSEHOLDS\n",
       "28                      MANHATTAN             SECTION 8 HOUSEHOLDS\n",
       "29                         QUEENS                 TOTAL HOUSEHOLDS\n",
       "30                  STATEN ISLAND                 TOTAL HOUSEHOLDS\n",
       "31                  STATEN ISLAND        PUBLIC HOUSING HOUSEHOLDS\n",
       "32                  STATEN ISLAND             SECTION 8 HOUSEHOLDS"
      ]
     },
     "execution_count": 6,
     "metadata": {},
     "output_type": "execute_result"
    }
   ],
   "source": [
    "nycha_res[['PROGRAM', 'STATECITY_SECTION8_FLAG']]"
   ]
  },
  {
   "cell_type": "markdown",
   "metadata": {},
   "source": [
    "## Data cleaning"
   ]
  },
  {
   "cell_type": "markdown",
   "metadata": {},
   "source": [
    "Convert all names of features to lower case:"
   ]
  },
  {
   "cell_type": "code",
   "execution_count": 7,
   "metadata": {},
   "outputs": [],
   "source": [
    "nycha_res.columns = map(str.lower, nycha_res.columns)\n",
    "nycha_res['program'] = nycha_res['program'].str.lower()\n",
    "nycha_res['statecity_section8_flag'] = nycha_res['statecity_section8_flag'].str.lower()"
   ]
  },
  {
   "cell_type": "markdown",
   "metadata": {},
   "source": [
    "Check for missing value:"
   ]
  },
  {
   "cell_type": "code",
   "execution_count": 8,
   "metadata": {},
   "outputs": [
    {
     "data": {
      "text/plain": [
       "Series([], dtype: int64)"
      ]
     },
     "execution_count": 8,
     "metadata": {},
     "output_type": "execute_result"
    }
   ],
   "source": [
    "nycha_res.isnull().sum()[nycha_res.isnull().sum() > 0]"
   ]
  },
  {
   "cell_type": "markdown",
   "metadata": {},
   "source": [
    "Select data by neighborhood:"
   ]
  },
  {
   "cell_type": "code",
   "execution_count": 9,
   "metadata": {},
   "outputs": [],
   "source": [
    "nycha_res = nycha_res.iloc[20:]"
   ]
  },
  {
   "cell_type": "markdown",
   "metadata": {},
   "source": [
    "## Data preprocessing"
   ]
  },
  {
   "cell_type": "markdown",
   "metadata": {},
   "source": [
    "### Feature generation"
   ]
  },
  {
   "cell_type": "markdown",
   "metadata": {},
   "source": [
    "Combine features into a new feature:"
   ]
  },
  {
   "cell_type": "code",
   "execution_count": 10,
   "metadata": {},
   "outputs": [],
   "source": [
    "nycha_res['total residents of working age'] = nycha_res['residents 18 to 20'] + nycha_res['residents 21 to 49'] + nycha_res['residents 50 to 61']"
   ]
  },
  {
   "cell_type": "markdown",
   "metadata": {},
   "source": [
    "Rename features:"
   ]
  },
  {
   "cell_type": "code",
   "execution_count": 13,
   "metadata": {},
   "outputs": [],
   "source": [
    "nycha_res = nycha_res.rename(columns={'program':'borough','statecity_section8_flag':'nycha_household_type'})"
   ]
  },
  {
   "cell_type": "markdown",
   "metadata": {},
   "source": [
    "### Investigating multicollinearity"
   ]
  },
  {
   "cell_type": "code",
   "execution_count": 11,
   "metadata": {},
   "outputs": [],
   "source": [
    "from rfpimp import feature_corr_matrix, plot_corr_heatmap"
   ]
  },
  {
   "cell_type": "code",
   "execution_count": 15,
   "metadata": {},
   "outputs": [],
   "source": [
    "res_df = nycha_res[nycha_res['nycha_household_type'].str.match('total households')].drop(columns=['borough','nycha_household_type'])"
   ]
  },
  {
   "cell_type": "markdown",
   "metadata": {},
   "source": [
    "Separate data frame into two by type of information:"
   ]
  },
  {
   "cell_type": "code",
   "execution_count": null,
   "metadata": {},
   "outputs": [],
   "source": [
    "# nycha_res_nb_dem = nycha_res_nb[['program','statecity_section8_flag',\n",
    "#                                  'all families average years in public housing','total families','total population',\n",
    "#                                  'average family size',\n",
    "#                                  'total minors under 18','total residents of working age','residents 62 plus',\n",
    "#                                  'total families - 1 or more employed','total families - 2nd adult employed']]\n",
    "# nycha_res_nb_dem = nycha_res_nb_dem.rename(columns={'program':'borough','statecity_section8_flag':'nycha_household_type'}).set_index(['borough', 'nycha_household_type'])"
   ]
  },
  {
   "cell_type": "code",
   "execution_count": null,
   "metadata": {},
   "outputs": [],
   "source": [
    "# nycha_res_nb_fin = nycha_res_nb[['program','statecity_section8_flag',\n",
    "#                                  'all average total gross income','all average gross rent',\n",
    "#                                 'total families on welfare','total families on full welfare',\n",
    "#                                  'total families on welfare as percent of families',\n",
    "#                                 'total single parent/grandparent families on welfare',\n",
    "#                                 'total single parent/grandparent with minors as % of families',\n",
    "#                                 'total fixed income families','total fixed income families as percent of families']]\n",
    "# nycha_res_nb_fin = nycha_res_nb_fin.rename(columns={'program':'borough','statecity_section8_flag':'nycha_household_type'}).set_index(['borough', 'nycha_household_type'])"
   ]
  },
  {
   "cell_type": "markdown",
   "metadata": {},
   "source": [
    "## Data visualization"
   ]
  },
  {
   "cell_type": "code",
   "execution_count": null,
   "metadata": {},
   "outputs": [],
   "source": [
    "# import matplotlib.pyplot as plt\n",
    "# from pandas.api.types import CategoricalDtype\n",
    "# from plotnine import *\n",
    "# %matplotlib inline"
   ]
  },
  {
   "cell_type": "code",
   "execution_count": null,
   "metadata": {},
   "outputs": [],
   "source": [
    "# employed = nycha_res_nb_dem[['total families - 1 or more employed']]\n",
    "# # employed.columns = employed.columns.get_level_values(0)\n",
    "# # employed = employed.reset_index()\n",
    "# # employed.columns = ['borough', 'public housing households',\n",
    "# #                    'section 8 households','total households']\n",
    "# # for col in ['public housing households', 'section 8 households', 'total households']:\n",
    "# #     employed[col] = employed[col].astype('Int64')"
   ]
  },
  {
   "cell_type": "code",
   "execution_count": null,
   "metadata": {},
   "outputs": [],
   "source": [
    "# employed_pivot = employed.reset_index().pivot(index='borough',\n",
    "#                                               columns='nycha_household_type',\n",
    "#                                               values='total families - 1 or more employed')\n",
    "# employed_pivot.plot.barh(stacked=False,\n",
    "#                          figsize=(16,10),\n",
    "#                          fontsize=20,\n",
    "#                          title='Total Families with 1 or More Employed by Borough').set(xlabel='Total Families with 1 or More Employed',\n",
    "#                                                                                         ylabel='Borough')"
   ]
  },
  {
   "cell_type": "code",
   "execution_count": null,
   "metadata": {},
   "outputs": [],
   "source": [
    "# employed_pivot.plot.barh(subplots=True,\n",
    "#                          figsize=(16,10),\n",
    "#                          fontsize=20)"
   ]
  },
  {
   "cell_type": "markdown",
   "metadata": {},
   "source": []
  }
 ],
 "metadata": {
  "kernelspec": {
   "display_name": "Python 3",
   "language": "python",
   "name": "python3"
  },
  "language_info": {
   "codemirror_mode": {
    "name": "ipython",
    "version": 3
   },
   "file_extension": ".py",
   "mimetype": "text/x-python",
   "name": "python",
   "nbconvert_exporter": "python",
   "pygments_lexer": "ipython3",
   "version": "3.7.4"
  }
 },
 "nbformat": 4,
 "nbformat_minor": 2
}
