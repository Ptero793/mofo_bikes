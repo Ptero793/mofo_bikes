{
 "cells": [
  {
   "cell_type": "markdown",
   "metadata": {},
   "source": [
    "# Preprocessed Citibike Data: Exploratory Data Analysis"
   ]
  },
  {
   "cell_type": "markdown",
   "metadata": {},
   "source": [
    "## Import libraries"
   ]
  },
  {
   "cell_type": "code",
   "execution_count": 1,
   "metadata": {},
   "outputs": [],
   "source": [
    "import numpy as np\n",
    "import pandas as pd\n",
    "import datetime as dt\n",
    "from pandas.api.types import CategoricalDtype\n",
    "import seaborn as sns\n",
    "import matplotlib.pyplot as plt\n",
    "import plotly.graph_objects as go"
   ]
  },
  {
   "cell_type": "markdown",
   "metadata": {},
   "source": [
    "## Import and load data"
   ]
  },
  {
   "cell_type": "markdown",
   "metadata": {},
   "source": [
    "Import preprocessed data:"
   ]
  },
  {
   "cell_type": "code",
   "execution_count": 2,
   "metadata": {},
   "outputs": [],
   "source": [
    "cb_raw = pd.read_csv('../../data/02_processed/concat_file_processed_final.csv', \n",
    "                     parse_dates=['starttime', 'stoptime'])"
   ]
  },
  {
   "cell_type": "markdown",
   "metadata": {},
   "source": [
    "Make a copy: "
   ]
  },
  {
   "cell_type": "code",
   "execution_count": 3,
   "metadata": {},
   "outputs": [],
   "source": [
    "cb = cb_raw.copy()"
   ]
  },
  {
   "cell_type": "markdown",
   "metadata": {},
   "source": [
    "## Inspect data frame"
   ]
  },
  {
   "cell_type": "markdown",
   "metadata": {},
   "source": [
    "Get dimensions of data frame and datatypes of each feature:"
   ]
  },
  {
   "cell_type": "code",
   "execution_count": 4,
   "metadata": {},
   "outputs": [
    {
     "name": "stdout",
     "output_type": "stream",
     "text": [
      "<class 'pandas.core.frame.DataFrame'>\n",
      "RangeIndex: 4017571 entries, 0 to 4017570\n",
      "Data columns (total 15 columns):\n",
      "bikeid                   int64\n",
      "birthyear                int64\n",
      "endstationid             int64\n",
      "endstationlatitude       float64\n",
      "endstationlongitude      float64\n",
      "endstationname           object\n",
      "gender                   int64\n",
      "startstationid           int64\n",
      "startstationlatitude     float64\n",
      "startstationlongitude    float64\n",
      "startstationname         object\n",
      "starttime                datetime64[ns]\n",
      "stoptime                 datetime64[ns]\n",
      "tripduration             int64\n",
      "usertype                 object\n",
      "dtypes: datetime64[ns](2), float64(4), int64(6), object(3)\n",
      "memory usage: 459.8+ MB\n"
     ]
    }
   ],
   "source": [
    "cb.info()"
   ]
  },
  {
   "cell_type": "markdown",
   "metadata": {},
   "source": [
    "Randomly sample five observations:"
   ]
  },
  {
   "cell_type": "code",
   "execution_count": 5,
   "metadata": {},
   "outputs": [
    {
     "data": {
      "text/html": [
       "<div>\n",
       "<style scoped>\n",
       "    .dataframe tbody tr th:only-of-type {\n",
       "        vertical-align: middle;\n",
       "    }\n",
       "\n",
       "    .dataframe tbody tr th {\n",
       "        vertical-align: top;\n",
       "    }\n",
       "\n",
       "    .dataframe thead th {\n",
       "        text-align: right;\n",
       "    }\n",
       "</style>\n",
       "<table border=\"1\" class=\"dataframe\">\n",
       "  <thead>\n",
       "    <tr style=\"text-align: right;\">\n",
       "      <th></th>\n",
       "      <th>bikeid</th>\n",
       "      <th>birthyear</th>\n",
       "      <th>endstationid</th>\n",
       "      <th>endstationlatitude</th>\n",
       "      <th>endstationlongitude</th>\n",
       "      <th>endstationname</th>\n",
       "      <th>gender</th>\n",
       "      <th>startstationid</th>\n",
       "      <th>startstationlatitude</th>\n",
       "      <th>startstationlongitude</th>\n",
       "      <th>startstationname</th>\n",
       "      <th>starttime</th>\n",
       "      <th>stoptime</th>\n",
       "      <th>tripduration</th>\n",
       "      <th>usertype</th>\n",
       "    </tr>\n",
       "  </thead>\n",
       "  <tbody>\n",
       "    <tr>\n",
       "      <td>1456032</td>\n",
       "      <td>28912</td>\n",
       "      <td>1990</td>\n",
       "      <td>267</td>\n",
       "      <td>40.75</td>\n",
       "      <td>-74.00</td>\n",
       "      <td>Broadway &amp; W 36 St</td>\n",
       "      <td>1</td>\n",
       "      <td>3725</td>\n",
       "      <td>40.78</td>\n",
       "      <td>-73.94</td>\n",
       "      <td>2 Ave &amp; E 72 St</td>\n",
       "      <td>2019-04-08 18:01:31.192</td>\n",
       "      <td>2019-04-08 18:18:02.319</td>\n",
       "      <td>991</td>\n",
       "      <td>Subscriber</td>\n",
       "    </tr>\n",
       "    <tr>\n",
       "      <td>3863119</td>\n",
       "      <td>25242</td>\n",
       "      <td>1954</td>\n",
       "      <td>280</td>\n",
       "      <td>40.72</td>\n",
       "      <td>-74.00</td>\n",
       "      <td>E 10 St &amp; 5 Ave</td>\n",
       "      <td>1</td>\n",
       "      <td>382</td>\n",
       "      <td>40.75</td>\n",
       "      <td>-74.00</td>\n",
       "      <td>University Pl &amp; E 14 St</td>\n",
       "      <td>2017-06-19 09:12:20.000</td>\n",
       "      <td>2017-06-19 09:16:08.000</td>\n",
       "      <td>228</td>\n",
       "      <td>Subscriber</td>\n",
       "    </tr>\n",
       "    <tr>\n",
       "      <td>1639258</td>\n",
       "      <td>19194</td>\n",
       "      <td>1988</td>\n",
       "      <td>3107</td>\n",
       "      <td>40.72</td>\n",
       "      <td>-73.94</td>\n",
       "      <td>Bedford Ave &amp; Nassau Ave</td>\n",
       "      <td>2</td>\n",
       "      <td>3112</td>\n",
       "      <td>40.72</td>\n",
       "      <td>-73.94</td>\n",
       "      <td>Milton St &amp; Franklin St</td>\n",
       "      <td>2017-07-16 00:14:07.000</td>\n",
       "      <td>2017-07-16 00:19:04.000</td>\n",
       "      <td>296</td>\n",
       "      <td>Subscriber</td>\n",
       "    </tr>\n",
       "    <tr>\n",
       "      <td>3749045</td>\n",
       "      <td>32451</td>\n",
       "      <td>1972</td>\n",
       "      <td>161</td>\n",
       "      <td>40.72</td>\n",
       "      <td>-74.00</td>\n",
       "      <td>LaGuardia Pl &amp; W 3 St</td>\n",
       "      <td>1</td>\n",
       "      <td>280</td>\n",
       "      <td>40.72</td>\n",
       "      <td>-74.00</td>\n",
       "      <td>E 10 St &amp; 5 Ave</td>\n",
       "      <td>2019-05-30 10:17:06.196</td>\n",
       "      <td>2019-05-30 10:22:12.011</td>\n",
       "      <td>305</td>\n",
       "      <td>Subscriber</td>\n",
       "    </tr>\n",
       "    <tr>\n",
       "      <td>2211039</td>\n",
       "      <td>26495</td>\n",
       "      <td>1974</td>\n",
       "      <td>232</td>\n",
       "      <td>40.70</td>\n",
       "      <td>-74.00</td>\n",
       "      <td>Cadman Plaza E &amp; Tillary St</td>\n",
       "      <td>2</td>\n",
       "      <td>3112</td>\n",
       "      <td>40.72</td>\n",
       "      <td>-73.94</td>\n",
       "      <td>Milton St &amp; Franklin St</td>\n",
       "      <td>2017-08-06 10:30:56.000</td>\n",
       "      <td>2017-08-06 10:57:23.000</td>\n",
       "      <td>1587</td>\n",
       "      <td>Subscriber</td>\n",
       "    </tr>\n",
       "  </tbody>\n",
       "</table>\n",
       "</div>"
      ],
      "text/plain": [
       "         bikeid  birthyear  endstationid  endstationlatitude  \\\n",
       "1456032   28912       1990           267               40.75   \n",
       "3863119   25242       1954           280               40.72   \n",
       "1639258   19194       1988          3107               40.72   \n",
       "3749045   32451       1972           161               40.72   \n",
       "2211039   26495       1974           232               40.70   \n",
       "\n",
       "         endstationlongitude               endstationname  gender  \\\n",
       "1456032               -74.00           Broadway & W 36 St       1   \n",
       "3863119               -74.00              E 10 St & 5 Ave       1   \n",
       "1639258               -73.94     Bedford Ave & Nassau Ave       2   \n",
       "3749045               -74.00        LaGuardia Pl & W 3 St       1   \n",
       "2211039               -74.00  Cadman Plaza E & Tillary St       2   \n",
       "\n",
       "         startstationid  startstationlatitude  startstationlongitude  \\\n",
       "1456032            3725                 40.78                 -73.94   \n",
       "3863119             382                 40.75                 -74.00   \n",
       "1639258            3112                 40.72                 -73.94   \n",
       "3749045             280                 40.72                 -74.00   \n",
       "2211039            3112                 40.72                 -73.94   \n",
       "\n",
       "                startstationname               starttime  \\\n",
       "1456032          2 Ave & E 72 St 2019-04-08 18:01:31.192   \n",
       "3863119  University Pl & E 14 St 2017-06-19 09:12:20.000   \n",
       "1639258  Milton St & Franklin St 2017-07-16 00:14:07.000   \n",
       "3749045          E 10 St & 5 Ave 2019-05-30 10:17:06.196   \n",
       "2211039  Milton St & Franklin St 2017-08-06 10:30:56.000   \n",
       "\n",
       "                       stoptime  tripduration    usertype  \n",
       "1456032 2019-04-08 18:18:02.319           991  Subscriber  \n",
       "3863119 2017-06-19 09:16:08.000           228  Subscriber  \n",
       "1639258 2017-07-16 00:19:04.000           296  Subscriber  \n",
       "3749045 2019-05-30 10:22:12.011           305  Subscriber  \n",
       "2211039 2017-08-06 10:57:23.000          1587  Subscriber  "
      ]
     },
     "execution_count": 5,
     "metadata": {},
     "output_type": "execute_result"
    }
   ],
   "source": [
    "cb.sample(n=5)"
   ]
  },
  {
   "cell_type": "markdown",
   "metadata": {},
   "source": [
    "Check for missing values – there should be none:"
   ]
  },
  {
   "cell_type": "code",
   "execution_count": 6,
   "metadata": {},
   "outputs": [
    {
     "data": {
      "text/plain": [
       "bikeid                   0\n",
       "birthyear                0\n",
       "endstationid             0\n",
       "endstationlatitude       0\n",
       "endstationlongitude      0\n",
       "endstationname           0\n",
       "gender                   0\n",
       "startstationid           0\n",
       "startstationlatitude     0\n",
       "startstationlongitude    0\n",
       "startstationname         0\n",
       "starttime                0\n",
       "stoptime                 0\n",
       "tripduration             0\n",
       "usertype                 0\n",
       "dtype: int64"
      ]
     },
     "execution_count": 6,
     "metadata": {},
     "output_type": "execute_result"
    }
   ],
   "source": [
    "cb.isnull().sum()"
   ]
  },
  {
   "cell_type": "markdown",
   "metadata": {},
   "source": [
    "## Data preprocessing"
   ]
  },
  {
   "cell_type": "markdown",
   "metadata": {},
   "source": [
    "Show unique values per feature:"
   ]
  },
  {
   "cell_type": "code",
   "execution_count": 7,
   "metadata": {},
   "outputs": [
    {
     "data": {
      "text/html": [
       "<div>\n",
       "<style scoped>\n",
       "    .dataframe tbody tr th:only-of-type {\n",
       "        vertical-align: middle;\n",
       "    }\n",
       "\n",
       "    .dataframe tbody tr th {\n",
       "        vertical-align: top;\n",
       "    }\n",
       "\n",
       "    .dataframe thead th {\n",
       "        text-align: right;\n",
       "    }\n",
       "</style>\n",
       "<table border=\"1\" class=\"dataframe\">\n",
       "  <thead>\n",
       "    <tr style=\"text-align: right;\">\n",
       "      <th></th>\n",
       "      <th>Feature</th>\n",
       "      <th>Number of Unique Values</th>\n",
       "    </tr>\n",
       "  </thead>\n",
       "  <tbody>\n",
       "    <tr>\n",
       "      <td>6</td>\n",
       "      <td>gender</td>\n",
       "      <td>3</td>\n",
       "    </tr>\n",
       "    <tr>\n",
       "      <td>9</td>\n",
       "      <td>startstationlongitude</td>\n",
       "      <td>3</td>\n",
       "    </tr>\n",
       "    <tr>\n",
       "      <td>14</td>\n",
       "      <td>usertype</td>\n",
       "      <td>3</td>\n",
       "    </tr>\n",
       "    <tr>\n",
       "      <td>4</td>\n",
       "      <td>endstationlongitude</td>\n",
       "      <td>4</td>\n",
       "    </tr>\n",
       "    <tr>\n",
       "      <td>3</td>\n",
       "      <td>endstationlatitude</td>\n",
       "      <td>6</td>\n",
       "    </tr>\n",
       "    <tr>\n",
       "      <td>8</td>\n",
       "      <td>startstationlatitude</td>\n",
       "      <td>6</td>\n",
       "    </tr>\n",
       "    <tr>\n",
       "      <td>1</td>\n",
       "      <td>birthyear</td>\n",
       "      <td>85</td>\n",
       "    </tr>\n",
       "    <tr>\n",
       "      <td>7</td>\n",
       "      <td>startstationid</td>\n",
       "      <td>1050</td>\n",
       "    </tr>\n",
       "    <tr>\n",
       "      <td>2</td>\n",
       "      <td>endstationid</td>\n",
       "      <td>1066</td>\n",
       "    </tr>\n",
       "    <tr>\n",
       "      <td>10</td>\n",
       "      <td>startstationname</td>\n",
       "      <td>1080</td>\n",
       "    </tr>\n",
       "    <tr>\n",
       "      <td>5</td>\n",
       "      <td>endstationname</td>\n",
       "      <td>1098</td>\n",
       "    </tr>\n",
       "    <tr>\n",
       "      <td>13</td>\n",
       "      <td>tripduration</td>\n",
       "      <td>15875</td>\n",
       "    </tr>\n",
       "    <tr>\n",
       "      <td>0</td>\n",
       "      <td>bikeid</td>\n",
       "      <td>16899</td>\n",
       "    </tr>\n",
       "    <tr>\n",
       "      <td>11</td>\n",
       "      <td>starttime</td>\n",
       "      <td>3931760</td>\n",
       "    </tr>\n",
       "    <tr>\n",
       "      <td>12</td>\n",
       "      <td>stoptime</td>\n",
       "      <td>3932355</td>\n",
       "    </tr>\n",
       "  </tbody>\n",
       "</table>\n",
       "</div>"
      ],
      "text/plain": [
       "                  Feature  Number of Unique Values\n",
       "6                  gender                        3\n",
       "9   startstationlongitude                        3\n",
       "14               usertype                        3\n",
       "4     endstationlongitude                        4\n",
       "3      endstationlatitude                        6\n",
       "8    startstationlatitude                        6\n",
       "1               birthyear                       85\n",
       "7          startstationid                     1050\n",
       "2            endstationid                     1066\n",
       "10       startstationname                     1080\n",
       "5          endstationname                     1098\n",
       "13           tripduration                    15875\n",
       "0                  bikeid                    16899\n",
       "11              starttime                  3931760\n",
       "12               stoptime                  3932355"
      ]
     },
     "execution_count": 7,
     "metadata": {},
     "output_type": "execute_result"
    }
   ],
   "source": [
    "pd.DataFrame.from_records([(col, cb[col].nunique()) for col in cb.columns],\n",
    "                          columns=['Feature', 'Number of Unique Values']).sort_values(by=['Number of Unique Values'])"
   ]
  },
  {
   "cell_type": "markdown",
   "metadata": {},
   "source": [
    "### Define features"
   ]
  },
  {
   "cell_type": "markdown",
   "metadata": {},
   "source": [
    "Define numerical features:"
   ]
  },
  {
   "cell_type": "code",
   "execution_count": 8,
   "metadata": {},
   "outputs": [],
   "source": [
    "map_feat = ['endstationlatitude','endstationlongitude','startstationlatitude','startstationlongitude']\n",
    "datetime_feat = ['birthyear','starttime', 'stoptime']\n",
    "cont_feat = map_feat + datetime_feat + ['tripduration']"
   ]
  },
  {
   "cell_type": "markdown",
   "metadata": {},
   "source": [
    "Define categorical features:"
   ]
  },
  {
   "cell_type": "code",
   "execution_count": 9,
   "metadata": {},
   "outputs": [],
   "source": [
    "num_nom_feat = ['bikeid','endstationid','startstationid','gender']\n",
    "cat_nom_feat = ['endstationname','startstationname','usertype']\n",
    "nom_feat = num_nom_feat + cat_nom_feat"
   ]
  },
  {
   "cell_type": "markdown",
   "metadata": {},
   "source": [
    "### Perform datatype conversions"
   ]
  },
  {
   "cell_type": "markdown",
   "metadata": {},
   "source": [
    "Convert to datetime format:"
   ]
  },
  {
   "cell_type": "code",
   "execution_count": 10,
   "metadata": {},
   "outputs": [],
   "source": [
    "cb['birthyear'] = pd.to_datetime(cb.birthyear, format='%Y')"
   ]
  },
  {
   "cell_type": "markdown",
   "metadata": {},
   "source": [
    "Convert features to `float16` or `int16` to reduce memory:"
   ]
  },
  {
   "cell_type": "code",
   "execution_count": 11,
   "metadata": {},
   "outputs": [],
   "source": [
    "cb[map_feat] = cb[map_feat].apply(lambda x: x.astype('float16'))"
   ]
  },
  {
   "cell_type": "code",
   "execution_count": 12,
   "metadata": {},
   "outputs": [],
   "source": [
    "float_to_int = ['startstationid','endstationid','tripduration','bikeid','gender']\n",
    "\n",
    "cb[float_to_int] = cb[float_to_int].apply(lambda x: x.astype('int16'))"
   ]
  },
  {
   "cell_type": "markdown",
   "metadata": {},
   "source": [
    "Convert untreated nominal features to categorical datatype to reduce memory:"
   ]
  },
  {
   "cell_type": "code",
   "execution_count": 13,
   "metadata": {},
   "outputs": [],
   "source": [
    "cb[cat_nom_feat] = cb[cat_nom_feat].apply(lambda x: x.astype('category'))"
   ]
  },
  {
   "cell_type": "markdown",
   "metadata": {},
   "source": [
    "Check for successful datatype conversion and reduction in memory:"
   ]
  },
  {
   "cell_type": "code",
   "execution_count": 14,
   "metadata": {
    "scrolled": true
   },
   "outputs": [
    {
     "name": "stdout",
     "output_type": "stream",
     "text": [
      "<class 'pandas.core.frame.DataFrame'>\n",
      "RangeIndex: 4017571 entries, 0 to 4017570\n",
      "Data columns (total 15 columns):\n",
      "bikeid                   int16\n",
      "birthyear                datetime64[ns]\n",
      "endstationid             int16\n",
      "endstationlatitude       float16\n",
      "endstationlongitude      float16\n",
      "endstationname           category\n",
      "gender                   int16\n",
      "startstationid           int16\n",
      "startstationlatitude     float16\n",
      "startstationlongitude    float16\n",
      "startstationname         category\n",
      "starttime                datetime64[ns]\n",
      "stoptime                 datetime64[ns]\n",
      "tripduration             int16\n",
      "usertype                 category\n",
      "dtypes: category(3), datetime64[ns](3), float16(4), int16(5)\n",
      "memory usage: 180.2 MB\n"
     ]
    }
   ],
   "source": [
    "cb.info()"
   ]
  },
  {
   "cell_type": "markdown",
   "metadata": {},
   "source": [
    "## Feature engineering"
   ]
  },
  {
   "cell_type": "markdown",
   "metadata": {},
   "source": [
    "### Imputation"
   ]
  },
  {
   "cell_type": "markdown",
   "metadata": {},
   "source": [
    "Check observations where latitude and longitude don't make any sense:"
   ]
  },
  {
   "cell_type": "code",
   "execution_count": 15,
   "metadata": {},
   "outputs": [],
   "source": [
    "# observe = [4455178, 2022803, 2051817, 3007606, 2022782, 2035624, 3539070, 956266]\n",
    "# cb.iloc[observe,:]"
   ]
  },
  {
   "cell_type": "markdown",
   "metadata": {},
   "source": [
    "Correct errors and impute most likely values:"
   ]
  },
  {
   "cell_type": "code",
   "execution_count": 16,
   "metadata": {},
   "outputs": [],
   "source": [
    "# cb.loc[cb['endstationlatitude'] == 0, 'endstationlatitude'] = 40.75\n",
    "# cb.loc[cb['endstationlongitude'] == 0, 'endstationlongitude'] = -74.0\n",
    "# cb.loc[cb['startstationlongitude']==0, 'startstationlongitude'] = -74.0\n",
    "# cb.loc[cb['startstationlatitude'] == 0, 'startstationlatitude'] = 40.75"
   ]
  },
  {
   "cell_type": "markdown",
   "metadata": {},
   "source": [
    "Drop observation where `startstationname` reads \"WS Don't Use\":"
   ]
  },
  {
   "cell_type": "code",
   "execution_count": 17,
   "metadata": {},
   "outputs": [],
   "source": [
    "# cb.drop(4455178, axis=0, inplace=True)"
   ]
  },
  {
   "cell_type": "markdown",
   "metadata": {},
   "source": [
    "### Distance features"
   ]
  },
  {
   "cell_type": "markdown",
   "metadata": {},
   "source": [
    "Define helper function to calculate distance between coordinates:"
   ]
  },
  {
   "cell_type": "code",
   "execution_count": 18,
   "metadata": {},
   "outputs": [],
   "source": [
    "from pyproj import Geod\n",
    "\n",
    "def calc_vincenty_dist(lat1, lon1, lat2, lon2): \n",
    "    az12, az21, dist = Geod(ellps='WGS84').inv(lon1, lat1, lon2, lat2)\n",
    "    return dist"
   ]
  },
  {
   "cell_type": "code",
   "execution_count": 19,
   "metadata": {},
   "outputs": [],
   "source": [
    "# Haversine & inclination 29 degrees to True north\n",
    "# Credits: https://www.movable-type.co.uk/scripts/latlong.html,\n",
    "# https://gist.github.com/jkAtGitHub/8ae7da4d5dacb9969bff43500b5efbc0#file-manhattan_dist-py\n",
    "def calc_haversine_dist(lat1, lon1, lat2, lon2):\n",
    "    lat1, lat2, lon1, lon2 = np.radians(lat1), np.radians(lat2), np.radians(lon1), np.radians(lon2)\n",
    "    dlat, dlon = lat2 - lat1, lon2 - lon1\n",
    "    r = 3963 # Earth's radius in miles\n",
    "    \n",
    "    a = np.sin(dlat/2)**2 + np.cos(lat1) * np.cos(lat2) * np.sin(dlon/2)**2\n",
    "    c = 2 * np.arctan2(np.sqrt(a), np.sqrt(1-a)) \n",
    "    \n",
    "    total_dist = r * c\n",
    "    return total_dist\n",
    "\n",
    "def calc_manh_disth(lat1, lon1, lat2, lon2):\n",
    "    start = np.stack([lat1, lon1], axis=1)\n",
    "    end = np.stack([lat2, lon2], axis=1)\n",
    "    \n",
    "    theta1, theta2 = np.radians(-28.904), np.radians(28.904)\n",
    "    rmat1 = np.array([[np.cos(theta1), np.sin(theta1)], \n",
    "                      [-np.sin(theta1), np.cos(theta1)]])\n",
    "    rmat2 = np.array([[np.cos(theta2), np.sin(theta2)], \n",
    "                      [-np.sin(theta2), np.cos(theta2)]])\n",
    "    \n",
    "    start_rot = rmat1 @ start.T\n",
    "    end_rot = rmat1 @ end.T\n",
    "    \n",
    "    hinge = np.stack((start_rot[0,:], end_rot[1,:]))\n",
    "    hinge_coords = rmat2 @ hinge\n",
    "    \n",
    "    manh_dist = calc_haversine_dist(start.T[0], start.T[1], hinge_coords[0], hinge_coords[1]) + calc_haversine_dist(hinge_coords[0], hinge_coords[1], end.T[0], end.T[1])\n",
    "    return manh_dist\n",
    "\n",
    "# Unused functions -----------------------------------------------\n",
    "# # Cartesian Coordinate system, output in latlong dist\n",
    "# def calc_manh_distc(lat, lon):\n",
    "#     return sum(abs(lat_i-lat_j) for lat_i, lat_j in zip(lat, lon))"
   ]
  },
  {
   "cell_type": "markdown",
   "metadata": {},
   "source": [
    "Create new features, `vicentydistance` and `manhdistance` (both in miles):"
   ]
  },
  {
   "cell_type": "code",
   "execution_count": 20,
   "metadata": {},
   "outputs": [],
   "source": [
    "cb['vicentydistance'] = calc_vincenty_dist(cb.startstationlatitude.tolist(), \n",
    "                                        cb.startstationlongitude.tolist(),\n",
    "                                        cb.endstationlatitude.tolist(),\n",
    "                                        cb.endstationlongitude.tolist())\n",
    "cb['vicentydistance'] = cb['vicentydistance'].apply(lambda x: x*0.000621371).astype('float16') # Convert from meters to miles"
   ]
  },
  {
   "cell_type": "code",
   "execution_count": 21,
   "metadata": {},
   "outputs": [],
   "source": [
    "cb['manhdistance'] = calc_manh_disth(cb.startstationlatitude,\n",
    "                                     cb.startstationlongitude,\n",
    "                                     cb.endstationlatitude,\n",
    "                                     cb.endstationlongitude).astype('float16')"
   ]
  },
  {
   "cell_type": "markdown",
   "metadata": {},
   "source": [
    "### Datetime features"
   ]
  },
  {
   "cell_type": "markdown",
   "metadata": {},
   "source": [
    "Create new features, `startmonth` and `endmonth`:"
   ]
  },
  {
   "cell_type": "code",
   "execution_count": 22,
   "metadata": {},
   "outputs": [],
   "source": [
    "cb['startmonth'] = cb['starttime'].dt.month.astype('int16')\n",
    "cb['stopmonth'] = cb['stoptime'].dt.month.astype('int16')"
   ]
  },
  {
   "cell_type": "markdown",
   "metadata": {},
   "source": [
    "Create new features for days of week, `startdayname` and `enddayname` (along with their numerical codes):"
   ]
  },
  {
   "cell_type": "code",
   "execution_count": 23,
   "metadata": {},
   "outputs": [],
   "source": [
    "cb['startdayname'] = cb['starttime'].dt.day_name().astype('category')\n",
    "cb['startday'] = cb['starttime'].dt.dayofweek.astype('int16')\n",
    "cb['stopdayname'] = cb['stoptime'].dt.day_name().astype('category')\n",
    "cb['stopday'] = cb['stoptime'].dt.dayofweek.astype('int16')"
   ]
  },
  {
   "cell_type": "markdown",
   "metadata": {},
   "source": [
    "Create new features, `starthour` and `endhour`:"
   ]
  },
  {
   "cell_type": "code",
   "execution_count": 24,
   "metadata": {},
   "outputs": [],
   "source": [
    "cb['starthour'] = cb['starttime'].dt.hour.astype('int16')\n",
    "cb['endhour'] = cb['stoptime'].dt.hour.astype('int16')"
   ]
  },
  {
   "cell_type": "markdown",
   "metadata": {},
   "source": [
    "### Geographic features"
   ]
  },
  {
   "cell_type": "markdown",
   "metadata": {},
   "source": [
    "Create new features, `startboro`, `endboro`, `startneighborhood`, and `endneighborhood`::"
   ]
  },
  {
   "cell_type": "code",
   "execution_count": 25,
   "metadata": {},
   "outputs": [],
   "source": [
    "from geopy.geocoders import Nominatim"
   ]
  },
  {
   "cell_type": "code",
   "execution_count": 26,
   "metadata": {},
   "outputs": [],
   "source": [
    "cb['startcoords'] = list(zip(cb.startstationlatitude, cb.startstationlongitude))\n",
    "cb['endcoords'] = list(zip(cb.endstationlatitude, cb.endstationlongitude))"
   ]
  },
  {
   "cell_type": "code",
   "execution_count": 27,
   "metadata": {},
   "outputs": [
    {
     "data": {
      "text/plain": [
       "startcoords          endcoords           \n",
       "(40.65625, -74.0)    (40.65625, -74.0)        7457\n",
       "                     (40.65625, -73.9375)      561\n",
       "                     (40.6875, -74.0)        12659\n",
       "                     (40.6875, -73.9375)      1464\n",
       "                     (40.71875, -74.0)         859\n",
       "                                             ...  \n",
       "(40.8125, -73.9375)  (40.75, -73.9375)         693\n",
       "                     (40.78125, -74.0)       10959\n",
       "                     (40.78125, -73.9375)    10823\n",
       "                     (40.8125, -74.0)          913\n",
       "                     (40.8125, -73.9375)     19453\n",
       "Length: 151, dtype: int64"
      ]
     },
     "execution_count": 27,
     "metadata": {},
     "output_type": "execute_result"
    }
   ],
   "source": [
    "cb.groupby(['startcoords','endcoords']).size()"
   ]
  },
  {
   "cell_type": "code",
   "execution_count": 28,
   "metadata": {},
   "outputs": [
    {
     "data": {
      "text/plain": [
       "(40.75, -74.0)          1611643\n",
       "(40.71875, -74.0)       1225486\n",
       "(40.6875, -74.0)         303974\n",
       "(40.78125, -74.0)        253155\n",
       "(40.78125, -73.9375)     169885\n",
       "(40.71875, -73.9375)     166405\n",
       "(40.75, -73.9375)        125906\n",
       "(40.6875, -73.9375)       79243\n",
       "(40.8125, -73.9375)       49122\n",
       "(40.65625, -74.0)         23641\n",
       "(40.8125, -74.0)           4838\n",
       "(40.65625, -73.9375)       4239\n",
       "(40.6875, -73.875)           30\n",
       "(40.71875, -73.875)           4\n",
       "Name: startcoords, dtype: int64"
      ]
     },
     "execution_count": 28,
     "metadata": {},
     "output_type": "execute_result"
    }
   ],
   "source": [
    "cb['startcoords'].value_counts()"
   ]
  },
  {
   "cell_type": "code",
   "execution_count": 29,
   "metadata": {},
   "outputs": [
    {
     "data": {
      "text/plain": [
       "(40.75, -74.0)          1606408\n",
       "(40.71875, -74.0)       1242812\n",
       "(40.6875, -74.0)         310908\n",
       "(40.78125, -74.0)        240335\n",
       "(40.78125, -73.9375)     168279\n",
       "(40.71875, -73.9375)     166978\n",
       "(40.75, -73.9375)        125961\n",
       "(40.6875, -73.9375)       76363\n",
       "(40.8125, -73.9375)       47487\n",
       "(40.65625, -74.0)         23251\n",
       "(40.8125, -74.0)           4626\n",
       "(40.65625, -73.9375)       4097\n",
       "(40.6875, -73.875)           36\n",
       "(40.71875, -74.0625)         29\n",
       "(40.71875, -73.875)           1\n",
       "Name: endcoords, dtype: int64"
      ]
     },
     "execution_count": 29,
     "metadata": {},
     "output_type": "execute_result"
    }
   ],
   "source": [
    "cb['endcoords'].value_counts()"
   ]
  },
  {
   "cell_type": "code",
   "execution_count": 30,
   "metadata": {},
   "outputs": [
    {
     "data": {
      "text/plain": [
       "startcoords          startstationname          startstationid\n",
       "(40.65625, -74.0)    10 St & 5 Ave             3317               916\n",
       "                     10 St & 7 Ave             3306              1338\n",
       "                     12 St & 4 Ave             3322               588\n",
       "                     14 St & 5 Ave             3319              1414\n",
       "                     14 St & 7 Ave             3310              1377\n",
       "                                                                 ... \n",
       "(40.8125, -73.9375)  W 116 St & Amsterdam Ave  3539              1158\n",
       "                     W 116 St & Broadway       3536              1130\n",
       "                     W 120 St & Claremont Ave  3623               685\n",
       "                     W 129 St & Convent Ave    3649               307\n",
       "                     West End Ave & W 107 St   3366              1590\n",
       "Length: 1112, dtype: int64"
      ]
     },
     "execution_count": 30,
     "metadata": {},
     "output_type": "execute_result"
    }
   ],
   "source": [
    "cb.groupby(['startcoords','startstationname','startstationid']).size()"
   ]
  },
  {
   "cell_type": "code",
   "execution_count": 31,
   "metadata": {},
   "outputs": [
    {
     "data": {
      "text/plain": [
       "endcoords            endstationname            endstationid\n",
       "(40.65625, -74.0)    10 St & 5 Ave             3317             859\n",
       "                     10 St & 7 Ave             3306            1281\n",
       "                     12 St & 4 Ave             3322             615\n",
       "                     14 St & 5 Ave             3319            1377\n",
       "                     14 St & 7 Ave             3310            1328\n",
       "                                                               ... \n",
       "(40.8125, -73.9375)  W 116 St & Amsterdam Ave  3539             880\n",
       "                     W 116 St & Broadway       3536             842\n",
       "                     W 120 St & Claremont Ave  3623             563\n",
       "                     W 129 St & Convent Ave    3649             323\n",
       "                     West End Ave & W 107 St   3366            1442\n",
       "Length: 1129, dtype: int64"
      ]
     },
     "execution_count": 31,
     "metadata": {},
     "output_type": "execute_result"
    }
   ],
   "source": [
    "cb.groupby(['endcoords','endstationname','endstationid']).size()"
   ]
  },
  {
   "cell_type": "markdown",
   "metadata": {},
   "source": [
    "Create data frame `unique_coords` consisting of unique coordinates for reverse geocoding processing:"
   ]
  },
  {
   "cell_type": "code",
   "execution_count": 32,
   "metadata": {},
   "outputs": [],
   "source": [
    "unique_startcoords = pd.Series(cb['startcoords'].unique())\n",
    "unique_endcoords = pd.Series(cb['endcoords'].unique())\n",
    "unique_coords = pd.concat([unique_startcoords, unique_endcoords], axis=1)\n",
    "unique_coords.columns = ['startcoords','endcoords']"
   ]
  },
  {
   "cell_type": "code",
   "execution_count": 33,
   "metadata": {},
   "outputs": [
    {
     "data": {
      "text/html": [
       "<div>\n",
       "<style scoped>\n",
       "    .dataframe tbody tr th:only-of-type {\n",
       "        vertical-align: middle;\n",
       "    }\n",
       "\n",
       "    .dataframe tbody tr th {\n",
       "        vertical-align: top;\n",
       "    }\n",
       "\n",
       "    .dataframe thead th {\n",
       "        text-align: right;\n",
       "    }\n",
       "</style>\n",
       "<table border=\"1\" class=\"dataframe\">\n",
       "  <thead>\n",
       "    <tr style=\"text-align: right;\">\n",
       "      <th></th>\n",
       "      <th>startcoords</th>\n",
       "      <th>endcoords</th>\n",
       "    </tr>\n",
       "  </thead>\n",
       "  <tbody>\n",
       "    <tr>\n",
       "      <td>0</td>\n",
       "      <td>(40.71875, -74.0)</td>\n",
       "      <td>(40.71875, -74.0)</td>\n",
       "    </tr>\n",
       "    <tr>\n",
       "      <td>1</td>\n",
       "      <td>(40.75, -74.0)</td>\n",
       "      <td>(40.75, -74.0)</td>\n",
       "    </tr>\n",
       "    <tr>\n",
       "      <td>2</td>\n",
       "      <td>(40.71875, -73.9375)</td>\n",
       "      <td>(40.6875, -74.0)</td>\n",
       "    </tr>\n",
       "    <tr>\n",
       "      <td>3</td>\n",
       "      <td>(40.6875, -74.0)</td>\n",
       "      <td>(40.71875, -73.9375)</td>\n",
       "    </tr>\n",
       "    <tr>\n",
       "      <td>4</td>\n",
       "      <td>(40.75, -73.9375)</td>\n",
       "      <td>(40.65625, -74.0)</td>\n",
       "    </tr>\n",
       "    <tr>\n",
       "      <td>5</td>\n",
       "      <td>(40.78125, -74.0)</td>\n",
       "      <td>(40.6875, -73.9375)</td>\n",
       "    </tr>\n",
       "    <tr>\n",
       "      <td>6</td>\n",
       "      <td>(40.78125, -73.9375)</td>\n",
       "      <td>(40.78125, -74.0)</td>\n",
       "    </tr>\n",
       "    <tr>\n",
       "      <td>7</td>\n",
       "      <td>(40.65625, -74.0)</td>\n",
       "      <td>(40.78125, -73.9375)</td>\n",
       "    </tr>\n",
       "    <tr>\n",
       "      <td>8</td>\n",
       "      <td>(40.8125, -73.9375)</td>\n",
       "      <td>(40.8125, -73.9375)</td>\n",
       "    </tr>\n",
       "    <tr>\n",
       "      <td>9</td>\n",
       "      <td>(40.6875, -73.9375)</td>\n",
       "      <td>(40.8125, -74.0)</td>\n",
       "    </tr>\n",
       "    <tr>\n",
       "      <td>10</td>\n",
       "      <td>(40.8125, -74.0)</td>\n",
       "      <td>(40.75, -73.9375)</td>\n",
       "    </tr>\n",
       "    <tr>\n",
       "      <td>11</td>\n",
       "      <td>(40.65625, -73.9375)</td>\n",
       "      <td>(40.71875, -74.0625)</td>\n",
       "    </tr>\n",
       "    <tr>\n",
       "      <td>12</td>\n",
       "      <td>(40.6875, -73.875)</td>\n",
       "      <td>(40.65625, -73.9375)</td>\n",
       "    </tr>\n",
       "    <tr>\n",
       "      <td>13</td>\n",
       "      <td>(40.71875, -73.875)</td>\n",
       "      <td>(40.6875, -73.875)</td>\n",
       "    </tr>\n",
       "    <tr>\n",
       "      <td>14</td>\n",
       "      <td>NaN</td>\n",
       "      <td>(40.71875, -73.875)</td>\n",
       "    </tr>\n",
       "  </tbody>\n",
       "</table>\n",
       "</div>"
      ],
      "text/plain": [
       "             startcoords             endcoords\n",
       "0      (40.71875, -74.0)     (40.71875, -74.0)\n",
       "1         (40.75, -74.0)        (40.75, -74.0)\n",
       "2   (40.71875, -73.9375)      (40.6875, -74.0)\n",
       "3       (40.6875, -74.0)  (40.71875, -73.9375)\n",
       "4      (40.75, -73.9375)     (40.65625, -74.0)\n",
       "5      (40.78125, -74.0)   (40.6875, -73.9375)\n",
       "6   (40.78125, -73.9375)     (40.78125, -74.0)\n",
       "7      (40.65625, -74.0)  (40.78125, -73.9375)\n",
       "8    (40.8125, -73.9375)   (40.8125, -73.9375)\n",
       "9    (40.6875, -73.9375)      (40.8125, -74.0)\n",
       "10      (40.8125, -74.0)     (40.75, -73.9375)\n",
       "11  (40.65625, -73.9375)  (40.71875, -74.0625)\n",
       "12    (40.6875, -73.875)  (40.65625, -73.9375)\n",
       "13   (40.71875, -73.875)    (40.6875, -73.875)\n",
       "14                   NaN   (40.71875, -73.875)"
      ]
     },
     "execution_count": 33,
     "metadata": {},
     "output_type": "execute_result"
    }
   ],
   "source": [
    "unique_coords"
   ]
  },
  {
   "cell_type": "markdown",
   "metadata": {},
   "source": [
    "Reverse geocode station coordinates for borough and neighborhood:"
   ]
  },
  {
   "cell_type": "code",
   "execution_count": 34,
   "metadata": {},
   "outputs": [],
   "source": [
    "geolocator = Nominatim(user_agent='myGeocoder', timeout=10)"
   ]
  },
  {
   "cell_type": "code",
   "execution_count": 35,
   "metadata": {},
   "outputs": [],
   "source": [
    "unique_coords['startneighborhood'] = unique_coords['startcoords'].dropna().apply(lambda x: geolocator.reverse(x).address.split(',')[2].strip())"
   ]
  },
  {
   "cell_type": "code",
   "execution_count": 36,
   "metadata": {},
   "outputs": [],
   "source": [
    "unique_coords['startboro'] = unique_coords['startcoords'].dropna().fillna(0).apply(lambda x: geolocator.reverse(x).address.split(',')[4].strip())"
   ]
  },
  {
   "cell_type": "code",
   "execution_count": 37,
   "metadata": {},
   "outputs": [],
   "source": [
    "unique_coords['endneighborhood'] = unique_coords['endcoords'].apply(lambda x: geolocator.reverse(x).address.split(',')[2].strip())"
   ]
  },
  {
   "cell_type": "code",
   "execution_count": 38,
   "metadata": {},
   "outputs": [],
   "source": [
    "unique_coords['endboro'] = unique_coords['endcoords'].apply(lambda x: geolocator.reverse(x).address.split(',')[4].strip())"
   ]
  },
  {
   "cell_type": "markdown",
   "metadata": {},
   "source": [
    "Merge `unique_coords` into `cb`:"
   ]
  },
  {
   "cell_type": "code",
   "execution_count": 39,
   "metadata": {},
   "outputs": [],
   "source": [
    "cb = pd.merge(cb.set_index('startcoords'), unique_coords.set_index('startcoords'), right_index=True, left_index=True, how='outer').reset_index()"
   ]
  },
  {
   "cell_type": "code",
   "execution_count": 40,
   "metadata": {},
   "outputs": [],
   "source": [
    "cb = cb.drop(columns=['startcoords','endcoords_x','endcoords_y'])"
   ]
  },
  {
   "cell_type": "code",
   "execution_count": 41,
   "metadata": {},
   "outputs": [
    {
     "data": {
      "text/html": [
       "<div>\n",
       "<style scoped>\n",
       "    .dataframe tbody tr th:only-of-type {\n",
       "        vertical-align: middle;\n",
       "    }\n",
       "\n",
       "    .dataframe tbody tr th {\n",
       "        vertical-align: top;\n",
       "    }\n",
       "\n",
       "    .dataframe thead th {\n",
       "        text-align: right;\n",
       "    }\n",
       "</style>\n",
       "<table border=\"1\" class=\"dataframe\">\n",
       "  <thead>\n",
       "    <tr style=\"text-align: right;\">\n",
       "      <th></th>\n",
       "      <th>bikeid</th>\n",
       "      <th>birthyear</th>\n",
       "      <th>endstationid</th>\n",
       "      <th>endstationlatitude</th>\n",
       "      <th>endstationlongitude</th>\n",
       "      <th>endstationname</th>\n",
       "      <th>gender</th>\n",
       "      <th>startstationid</th>\n",
       "      <th>startstationlatitude</th>\n",
       "      <th>startstationlongitude</th>\n",
       "      <th>...</th>\n",
       "      <th>startdayname</th>\n",
       "      <th>startday</th>\n",
       "      <th>stopdayname</th>\n",
       "      <th>stopday</th>\n",
       "      <th>starthour</th>\n",
       "      <th>endhour</th>\n",
       "      <th>startneighborhood</th>\n",
       "      <th>startboro</th>\n",
       "      <th>endneighborhood</th>\n",
       "      <th>endboro</th>\n",
       "    </tr>\n",
       "  </thead>\n",
       "  <tbody>\n",
       "    <tr>\n",
       "      <td>4017571</td>\n",
       "      <td>NaN</td>\n",
       "      <td>NaT</td>\n",
       "      <td>NaN</td>\n",
       "      <td>NaN</td>\n",
       "      <td>NaN</td>\n",
       "      <td>NaN</td>\n",
       "      <td>NaN</td>\n",
       "      <td>NaN</td>\n",
       "      <td>NaN</td>\n",
       "      <td>NaN</td>\n",
       "      <td>...</td>\n",
       "      <td>NaN</td>\n",
       "      <td>NaN</td>\n",
       "      <td>NaN</td>\n",
       "      <td>NaN</td>\n",
       "      <td>NaN</td>\n",
       "      <td>NaN</td>\n",
       "      <td>NaN</td>\n",
       "      <td>NaN</td>\n",
       "      <td>Middle Village</td>\n",
       "      <td>Queens County</td>\n",
       "    </tr>\n",
       "  </tbody>\n",
       "</table>\n",
       "<p>1 rows × 29 columns</p>\n",
       "</div>"
      ],
      "text/plain": [
       "         bikeid birthyear  endstationid  endstationlatitude  \\\n",
       "4017571     NaN       NaT           NaN                 NaN   \n",
       "\n",
       "         endstationlongitude endstationname  gender  startstationid  \\\n",
       "4017571                  NaN            NaN     NaN             NaN   \n",
       "\n",
       "         startstationlatitude  startstationlongitude  ... startdayname  \\\n",
       "4017571                   NaN                    NaN  ...          NaN   \n",
       "\n",
       "        startday stopdayname  stopday starthour  endhour  startneighborhood  \\\n",
       "4017571      NaN         NaN      NaN       NaN      NaN                NaN   \n",
       "\n",
       "         startboro  endneighborhood        endboro  \n",
       "4017571        NaN   Middle Village  Queens County  \n",
       "\n",
       "[1 rows x 29 columns]"
      ]
     },
     "execution_count": 41,
     "metadata": {},
     "output_type": "execute_result"
    }
   ],
   "source": [
    "cb[cb.isnull().any(axis=1)]"
   ]
  },
  {
   "cell_type": "code",
   "execution_count": 42,
   "metadata": {},
   "outputs": [],
   "source": [
    "cb = cb.dropna()"
   ]
  },
  {
   "cell_type": "code",
   "execution_count": 43,
   "metadata": {},
   "outputs": [
    {
     "data": {
      "text/plain": [
       "(4017571, 29)"
      ]
     },
     "execution_count": 43,
     "metadata": {},
     "output_type": "execute_result"
    }
   ],
   "source": [
    "cb.shape"
   ]
  },
  {
   "cell_type": "code",
   "execution_count": 44,
   "metadata": {},
   "outputs": [
    {
     "data": {
      "text/plain": [
       "Index([], dtype='object')"
      ]
     },
     "execution_count": 44,
     "metadata": {},
     "output_type": "execute_result"
    }
   ],
   "source": [
    "cb.columns[cb.isnull().sum() > 0]"
   ]
  },
  {
   "cell_type": "markdown",
   "metadata": {},
   "source": [
    "Perform datatype conversion to reduce memory:"
   ]
  },
  {
   "cell_type": "code",
   "execution_count": 45,
   "metadata": {},
   "outputs": [],
   "source": [
    "cat_nom_feat = cat_nom_feat + ['startneighborhood','startboro','endneighborhood','endboro']\n",
    "cb[cat_nom_feat] = cb[cat_nom_feat].apply(lambda x: x.astype('category'))"
   ]
  },
  {
   "cell_type": "code",
   "execution_count": 46,
   "metadata": {},
   "outputs": [],
   "source": [
    "cb[float_to_int] = cb[float_to_int].apply(lambda x: x.astype('int16'))"
   ]
  },
  {
   "cell_type": "code",
   "execution_count": 47,
   "metadata": {},
   "outputs": [],
   "source": [
    "time_feat = ['startmonth','stopmonth','startday','stopday',\n",
    "            'starthour','endhour']\n",
    "\n",
    "cb[time_feat] = cb[time_feat].apply(lambda x: x.astype('float16'))"
   ]
  },
  {
   "cell_type": "markdown",
   "metadata": {},
   "source": [
    "### Final check\n",
    "\n",
    "Inspect memory:"
   ]
  },
  {
   "cell_type": "code",
   "execution_count": 48,
   "metadata": {},
   "outputs": [
    {
     "name": "stdout",
     "output_type": "stream",
     "text": [
      "<class 'pandas.core.frame.DataFrame'>\n",
      "Int64Index: 4017571 entries, 0 to 4017570\n",
      "Data columns (total 29 columns):\n",
      "bikeid                   int16\n",
      "birthyear                datetime64[ns]\n",
      "endstationid             int16\n",
      "endstationlatitude       float16\n",
      "endstationlongitude      float16\n",
      "endstationname           category\n",
      "gender                   int16\n",
      "startstationid           int16\n",
      "startstationlatitude     float16\n",
      "startstationlongitude    float16\n",
      "startstationname         category\n",
      "starttime                datetime64[ns]\n",
      "stoptime                 datetime64[ns]\n",
      "tripduration             int16\n",
      "usertype                 category\n",
      "vicentydistance          float16\n",
      "manhdistance             float16\n",
      "startmonth               float16\n",
      "stopmonth                float16\n",
      "startdayname             category\n",
      "startday                 float16\n",
      "stopdayname              category\n",
      "stopday                  float16\n",
      "starthour                float16\n",
      "endhour                  float16\n",
      "startneighborhood        category\n",
      "startboro                category\n",
      "endneighborhood          category\n",
      "endboro                  category\n",
      "dtypes: category(9), datetime64[ns](3), float16(12), int16(5)\n",
      "memory usage: 295.1 MB\n"
     ]
    }
   ],
   "source": [
    "cb.info()"
   ]
  },
  {
   "cell_type": "markdown",
   "metadata": {},
   "source": [
    "Create csv file of feature engineering citibike dataset:"
   ]
  },
  {
   "cell_type": "code",
   "execution_count": 49,
   "metadata": {},
   "outputs": [],
   "source": [
    "cb.to_csv('../../data/02_processed/citibike_feature_engineered_final.csv', index=False)"
   ]
  },
  {
   "cell_type": "markdown",
   "metadata": {},
   "source": [
    "## Inspect data"
   ]
  },
  {
   "cell_type": "markdown",
   "metadata": {},
   "source": [
    "### STUFF TO FIX "
   ]
  },
  {
   "cell_type": "code",
   "execution_count": 50,
   "metadata": {},
   "outputs": [
    {
     "data": {
      "text/plain": [
       "13746"
      ]
     },
     "execution_count": 50,
     "metadata": {},
     "output_type": "execute_result"
    }
   ],
   "source": [
    "#need to fix ride discrepencies here before proceeding with using day of week EDA seriously\n",
    "len(cb.startday)-(cb.startday==cb.stopday).sum()"
   ]
  },
  {
   "cell_type": "code",
   "execution_count": 51,
   "metadata": {},
   "outputs": [
    {
     "data": {
      "text/plain": [
       "2.0    639716\n",
       "3.0    621666\n",
       "1.0    616602\n",
       "4.0    600303\n",
       "0.0    579112\n",
       "5.0    497901\n",
       "6.0    462271\n",
       "Name: startday, dtype: int64"
      ]
     },
     "execution_count": 51,
     "metadata": {},
     "output_type": "execute_result"
    }
   ],
   "source": [
    "cb.startday.value_counts()"
   ]
  },
  {
   "cell_type": "markdown",
   "metadata": {},
   "source": [
    "Inspect number of rides per day:"
   ]
  },
  {
   "cell_type": "code",
   "execution_count": 52,
   "metadata": {},
   "outputs": [
    {
     "data": {
      "image/png": "[encoded data removed]",
      "text/plain": [
       "<Figure size 432x288 with 1 Axes>"
      ]
     },
     "metadata": {
      "needs_background": "light"
     },
     "output_type": "display_data"
    }
   ],
   "source": [
    "x=cb.startday.value_counts().index\n",
    "y=cb.startday.value_counts()/(343) #divide by number of weeks to get mean rides per day\n",
    "plt.scatter(x, y, alpha=0.5)\n",
    "plt.xlabel('Day of Week')\n",
    "plt.ylabel('Number of Rides')\n",
    "plt.title('Number of Rides by Day')\n",
    "plt.show()"
   ]
  },
  {
   "cell_type": "markdown",
   "metadata": {},
   "source": [
    "Inspect number of rides per hour:"
   ]
  },
  {
   "cell_type": "code",
   "execution_count": 53,
   "metadata": {},
   "outputs": [
    {
     "data": {
      "image/png": "[encoded data removed]",
      "text/plain": [
       "<Figure size 432x288 with 1 Axes>"
      ]
     },
     "metadata": {
      "needs_background": "light"
     },
     "output_type": "display_data"
    }
   ],
   "source": [
    "x=cb.starthour.value_counts().index\n",
    "y=cb.starthour.value_counts()\n",
    "plt.scatter(x, y, alpha=0.5)\n",
    "plt.xlabel('Hour of Day')\n",
    "plt.ylabel('Number of Rides')\n",
    "plt.title('Number of Rides by Hour')\n",
    "plt.show()"
   ]
  },
  {
   "cell_type": "markdown",
   "metadata": {},
   "source": [
    "Inspect number of rides per month:"
   ]
  },
  {
   "cell_type": "code",
   "execution_count": 54,
   "metadata": {},
   "outputs": [],
   "source": [
    "index=[1,7,8,9,10,11,12]\n",
    "#y[index] = y[index]*(6/7) #to fix over sampling from Jan 2020 and July-December 2013\n",
    "y = y.round().astype('int32')"
   ]
  },
  {
   "cell_type": "code",
   "execution_count": 55,
   "metadata": {},
   "outputs": [
    {
     "data": {
      "image/png": "[encoded data removed]",
      "text/plain": [
       "<Figure size 432x288 with 1 Axes>"
      ]
     },
     "metadata": {
      "needs_background": "light"
     },
     "output_type": "display_data"
    }
   ],
   "source": [
    "#ad-hocly adjusted for the oversampling of Jan, July-December months \n",
    "plt.scatter(x, y, alpha=0.5)\n",
    "plt.xlabel('Month of Year')\n",
    "plt.ylabel('Number of Rides')\n",
    "plt.title('Number of Rides by Month')\n",
    "plt.show()"
   ]
  },
  {
   "cell_type": "markdown",
   "metadata": {},
   "source": [
    "Inspect `vicentydistance` by month:"
   ]
  },
  {
   "cell_type": "code",
   "execution_count": 56,
   "metadata": {},
   "outputs": [
    {
     "name": "stderr",
     "output_type": "stream",
     "text": [
      "/opt/anaconda3/lib/python3.7/site-packages/ipykernel_launcher.py:7: UserWarning:\n",
      "\n",
      "To output multiple subplots, the figure containing the passed axes is being cleared\n",
      "\n"
     ]
    },
    {
     "data": {
      "image/png": "[encoded data removed]",
      "text/plain": [
       "<Figure size 720x576 with 12 Axes>"
      ]
     },
     "metadata": {
      "needs_background": "light"
     },
     "output_type": "display_data"
    }
   ],
   "source": [
    "#adjusted for ease of interpretation\n",
    "x=cb['vicentydistance'].sort_values(ascending=False).index\n",
    "y=cb['vicentydistance'].sort_values(ascending=False)\n",
    "\n",
    "fig, ax = plt.subplots(figsize=(10,8))\n",
    "plt.suptitle('')\n",
    "cb.groupby('startmonth').boxplot(column=['vicentydistance'], by='startmonth', ax=ax)\n",
    "plt.show()"
   ]
  },
  {
   "cell_type": "markdown",
   "metadata": {},
   "source": [
    "## Appendix"
   ]
  },
  {
   "cell_type": "markdown",
   "metadata": {},
   "source": [
    "Create new feature, `uniquetripid`:"
   ]
  },
  {
   "cell_type": "code",
   "execution_count": 57,
   "metadata": {},
   "outputs": [
    {
     "name": "stderr",
     "output_type": "stream",
     "text": [
      "/opt/anaconda3/lib/python3.7/site-packages/ipykernel_launcher.py:2: SettingWithCopyWarning:\n",
      "\n",
      "\n",
      "A value is trying to be set on a copy of a slice from a DataFrame.\n",
      "Try using .loc[row_indexer,col_indexer] = value instead\n",
      "\n",
      "See the caveats in the documentation: http://pandas.pydata.org/pandas-docs/stable/user_guide/indexing.html#returning-a-view-versus-a-copy\n",
      "\n"
     ]
    }
   ],
   "source": [
    "cb_filtered = cb[cb['birthyear'].dt.year.astype('int16') > 1920]\n",
    "cb_filtered['birthyear'] = cb_filtered['birthyear'].dt.year.astype('int16')"
   ]
  },
  {
   "cell_type": "code",
   "execution_count": 58,
   "metadata": {},
   "outputs": [
    {
     "data": {
      "text/plain": [
       "birthyear  gender  usertype    startstationid  starttime                startneighborhood                  \n",
       "1921       1       Subscriber  116             2016-07-20 17:06:09.000  Flower District                        1\n",
       "                                               2016-08-24 17:10:05.000  Flower District                        1\n",
       "                               160             2014-05-18 00:48:37.000  Flower District                        1\n",
       "                               217             2013-06-25 19:56:56.000  Columbia Street Waterfront District    1\n",
       "                               228             2014-09-02 19:25:14.000  Flower District                        1\n",
       "                                                                                                              ..\n",
       "2003       2       Subscriber  3361            2020-01-06 18:25:57.369  Columbia Street Waterfront District    1\n",
       "                               3377            2019-12-31 23:46:46.006  Columbia Street Waterfront District    1\n",
       "                               3398            2019-08-30 18:46:54.397  Columbia Street Waterfront District    1\n",
       "                               3686            2019-11-01 19:24:49.598  Flower District                        1\n",
       "                               3718            2019-07-31 20:52:04.086  Little Italy                           1\n",
       "Length: 3719713, dtype: int64"
      ]
     },
     "execution_count": 58,
     "metadata": {},
     "output_type": "execute_result"
    }
   ],
   "source": [
    "cb_filtered.groupby(['birthyear','gender','usertype','startstationid','starttime','startneighborhood']).size()"
   ]
  },
  {
   "cell_type": "code",
   "execution_count": 59,
   "metadata": {},
   "outputs": [
    {
     "data": {
      "text/plain": [
       "startneighborhood   startstationid  starttime                usertype    birthyear  gender\n",
       "Bedford-Stuyvesant  120             2013-06-04 22:40:26.000  Subscriber  1961       1         1\n",
       "                                    2013-06-05 09:05:23.000  Subscriber  1973       1         1\n",
       "                                    2013-06-06 09:02:34.000  Subscriber  1973       1         1\n",
       "                                    2013-06-11 07:31:48.000  Subscriber  1970       1         1\n",
       "                                    2013-06-11 08:45:09.000  Subscriber  1978       2         1\n",
       "                                                                                             ..\n",
       "Weehawken           3810            2020-01-12 16:14:20.125  Subscriber  1990       1         1\n",
       "                                    2020-01-13 09:03:52.020  Subscriber  1989       2         1\n",
       "                                    2020-01-13 16:58:37.596  Subscriber  1965       1         1\n",
       "                                    2020-01-14 07:39:54.956  Subscriber  1965       1         1\n",
       "                                    2020-01-16 08:36:18.848  Subscriber  1989       2         1\n",
       "Length: 3719713, dtype: int64"
      ]
     },
     "execution_count": 59,
     "metadata": {},
     "output_type": "execute_result"
    }
   ],
   "source": [
    "cb_filtered.groupby(['startneighborhood','startstationid','starttime','usertype','birthyear','gender']).size()"
   ]
  },
  {
   "cell_type": "code",
   "execution_count": null,
   "metadata": {},
   "outputs": [],
   "source": []
  }
 ],
 "metadata": {
  "kernelspec": {
   "display_name": "Python 3",
   "language": "python",
   "name": "python3"
  },
  "language_info": {
   "codemirror_mode": {
    "name": "ipython",
    "version": 3
   },
   "file_extension": ".py",
   "mimetype": "text/x-python",
   "name": "python",
   "nbconvert_exporter": "python",
   "pygments_lexer": "ipython3",
   "version": "3.7.4"
  }
 },
 "nbformat": 4,
 "nbformat_minor": 2
}
